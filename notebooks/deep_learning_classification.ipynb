{
 "cells": [
  {
   "cell_type": "code",
   "execution_count": 161,
   "id": "6addda34",
   "metadata": {},
   "outputs": [],
   "source": [
    "#### data I/O\n",
    "import pandas as pd\n",
    "import numpy as np\n",
    "import json"
   ]
  },
  {
   "cell_type": "code",
   "execution_count": 9,
   "id": "24e7d310",
   "metadata": {},
   "outputs": [],
   "source": [
    "df_spam_0 = pd.read_csv('../data/spam_ham_dataset.csv')"
   ]
  },
  {
   "cell_type": "code",
   "execution_count": 10,
   "id": "3a40879f",
   "metadata": {
    "scrolled": true
   },
   "outputs": [
    {
     "data": {
      "text/html": [
       "<div>\n",
       "<style scoped>\n",
       "    .dataframe tbody tr th:only-of-type {\n",
       "        vertical-align: middle;\n",
       "    }\n",
       "\n",
       "    .dataframe tbody tr th {\n",
       "        vertical-align: top;\n",
       "    }\n",
       "\n",
       "    .dataframe thead th {\n",
       "        text-align: right;\n",
       "    }\n",
       "</style>\n",
       "<table border=\"1\" class=\"dataframe\">\n",
       "  <thead>\n",
       "    <tr style=\"text-align: right;\">\n",
       "      <th></th>\n",
       "      <th>Unnamed: 0</th>\n",
       "      <th>label</th>\n",
       "      <th>text</th>\n",
       "      <th>label_num</th>\n",
       "    </tr>\n",
       "  </thead>\n",
       "  <tbody>\n",
       "    <tr>\n",
       "      <th>0</th>\n",
       "      <td>605</td>\n",
       "      <td>ham</td>\n",
       "      <td>Subject: enron methanol ; meter # : 988291\\r\\n...</td>\n",
       "      <td>0</td>\n",
       "    </tr>\n",
       "    <tr>\n",
       "      <th>1</th>\n",
       "      <td>2349</td>\n",
       "      <td>ham</td>\n",
       "      <td>Subject: hpl nom for january 9 , 2001\\r\\n( see...</td>\n",
       "      <td>0</td>\n",
       "    </tr>\n",
       "    <tr>\n",
       "      <th>2</th>\n",
       "      <td>3624</td>\n",
       "      <td>ham</td>\n",
       "      <td>Subject: neon retreat\\r\\nho ho ho , we ' re ar...</td>\n",
       "      <td>0</td>\n",
       "    </tr>\n",
       "    <tr>\n",
       "      <th>3</th>\n",
       "      <td>4685</td>\n",
       "      <td>spam</td>\n",
       "      <td>Subject: photoshop , windows , office . cheap ...</td>\n",
       "      <td>1</td>\n",
       "    </tr>\n",
       "    <tr>\n",
       "      <th>4</th>\n",
       "      <td>2030</td>\n",
       "      <td>ham</td>\n",
       "      <td>Subject: re : indian springs\\r\\nthis deal is t...</td>\n",
       "      <td>0</td>\n",
       "    </tr>\n",
       "  </tbody>\n",
       "</table>\n",
       "</div>"
      ],
      "text/plain": [
       "   Unnamed: 0 label                                               text  \\\n",
       "0         605   ham  Subject: enron methanol ; meter # : 988291\\r\\n...   \n",
       "1        2349   ham  Subject: hpl nom for january 9 , 2001\\r\\n( see...   \n",
       "2        3624   ham  Subject: neon retreat\\r\\nho ho ho , we ' re ar...   \n",
       "3        4685  spam  Subject: photoshop , windows , office . cheap ...   \n",
       "4        2030   ham  Subject: re : indian springs\\r\\nthis deal is t...   \n",
       "\n",
       "   label_num  \n",
       "0          0  \n",
       "1          0  \n",
       "2          0  \n",
       "3          1  \n",
       "4          0  "
      ]
     },
     "execution_count": 10,
     "metadata": {},
     "output_type": "execute_result"
    }
   ],
   "source": [
    "df_spam_0.head()"
   ]
  },
  {
   "cell_type": "markdown",
   "id": "816c1850",
   "metadata": {},
   "source": [
    "## Preparing training data"
   ]
  },
  {
   "cell_type": "code",
   "execution_count": 61,
   "id": "eeb17b1c",
   "metadata": {},
   "outputs": [
    {
     "name": "stderr",
     "output_type": "stream",
     "text": [
      "/home/ubuntu/anaconda3/envs/tensorflow2_p38/lib/python3.8/site-packages/pandas/core/frame.py:5039: SettingWithCopyWarning: \n",
      "A value is trying to be set on a copy of a slice from a DataFrame\n",
      "\n",
      "See the caveats in the documentation: https://pandas.pydata.org/pandas-docs/stable/user_guide/indexing.html#returning-a-view-versus-a-copy\n",
      "  return super().rename(\n"
     ]
    }
   ],
   "source": [
    "#### Data Pre-processing for Kaggle dataset\n",
    "import pandas as pd\n",
    "from sklearn.model_selection import train_test_split\n",
    "\n",
    "\n",
    "df = pd.read_csv(\"../data/spam_ham_dataset.csv\")\n",
    "df_sub =  df[[\"text\",\"label_num\"]]\n",
    "df_sub.rename(columns = {\"label_num\":'label'}, inplace=True)\n",
    "df_train,df_test = train_test_split(\n",
    "        df_sub, \\\n",
    "    test_size=500, random_state=123, stratify=df_sub.label\n",
    "    )\n",
    "df_test,df_val = train_test_split(\n",
    "        df_test, \\\n",
    "    test_size=250, random_state=123, stratify=df_test.label\n",
    "    )"
   ]
  },
  {
   "cell_type": "code",
   "execution_count": 59,
   "id": "0787df7d",
   "metadata": {},
   "outputs": [
    {
     "data": {
      "text/html": [
       "<div>\n",
       "<style scoped>\n",
       "    .dataframe tbody tr th:only-of-type {\n",
       "        vertical-align: middle;\n",
       "    }\n",
       "\n",
       "    .dataframe tbody tr th {\n",
       "        vertical-align: top;\n",
       "    }\n",
       "\n",
       "    .dataframe thead th {\n",
       "        text-align: right;\n",
       "    }\n",
       "</style>\n",
       "<table border=\"1\" class=\"dataframe\">\n",
       "  <thead>\n",
       "    <tr style=\"text-align: right;\">\n",
       "      <th></th>\n",
       "      <th>text</th>\n",
       "    </tr>\n",
       "    <tr>\n",
       "      <th>label</th>\n",
       "      <th></th>\n",
       "    </tr>\n",
       "  </thead>\n",
       "  <tbody>\n",
       "    <tr>\n",
       "      <th>0</th>\n",
       "      <td>3494</td>\n",
       "    </tr>\n",
       "    <tr>\n",
       "      <th>1</th>\n",
       "      <td>1427</td>\n",
       "    </tr>\n",
       "  </tbody>\n",
       "</table>\n",
       "</div>"
      ],
      "text/plain": [
       "       text\n",
       "label      \n",
       "0      3494\n",
       "1      1427"
      ]
     },
     "execution_count": 59,
     "metadata": {},
     "output_type": "execute_result"
    }
   ],
   "source": [
    "#### Balancing the dataset\n",
    "df_train.groupby('label').count()\n",
    "\n"
   ]
  },
  {
   "cell_type": "code",
   "execution_count": null,
   "id": "ae5f9619",
   "metadata": {},
   "outputs": [],
   "source": [
    "df_train,df_val = train_test_split(\n",
    "        df_train, \\\n",
    "    test_size=250, random_state=123, stratify=df_test.label\n",
    "    )"
   ]
  },
  {
   "cell_type": "code",
   "execution_count": 31,
   "id": "c14f1751",
   "metadata": {},
   "outputs": [],
   "source": [
    "y_train = df_train.label\n",
    "y_val = df_val.label\n",
    "y_test = df_test.label"
   ]
  },
  {
   "cell_type": "markdown",
   "id": "0e606a5d",
   "metadata": {},
   "source": [
    "## Tokenizing text\n"
   ]
  },
  {
   "cell_type": "code",
   "execution_count": 18,
   "id": "df11e4c9",
   "metadata": {},
   "outputs": [],
   "source": [
    "from keras.preprocessing.text import Tokenizer\n",
    "tokenizer = Tokenizer(num_words=5000)\n",
    "tokenizer.fit_on_texts(df_spam_0.text)"
   ]
  },
  {
   "cell_type": "code",
   "execution_count": 28,
   "id": "7a9f9046",
   "metadata": {},
   "outputs": [],
   "source": [
    "vocab_size = len(tokenizer.word_index) + 1 "
   ]
  },
  {
   "cell_type": "code",
   "execution_count": 19,
   "id": "4e4b1a93",
   "metadata": {},
   "outputs": [],
   "source": [
    "X_train = tokenizer.texts_to_sequences(df_train.text.values)\n",
    "X_val = tokenizer.texts_to_sequences(df_val.text.values)\n",
    "X_test = tokenizer.texts_to_sequences(df_test.text.values)\n"
   ]
  },
  {
   "cell_type": "code",
   "execution_count": 20,
   "id": "44112711",
   "metadata": {},
   "outputs": [
    {
     "name": "stdout",
     "output_type": "stream",
     "text": [
      "Subject: hpl nom for july 27 , 2000\r\n",
      "( see attached file : hplo 727 . xls )\r\n",
      "- hplo 727 . xls\n",
      "[9, 48, 148, 6, 208, 250, 92, 93, 98, 169, 590, 121, 1, 590, 121]\n"
     ]
    }
   ],
   "source": [
    "print(df_train.text.values[2])\n",
    "print(X_train[2])"
   ]
  },
  {
   "cell_type": "code",
   "execution_count": 21,
   "id": "a5c823f4",
   "metadata": {},
   "outputs": [
    {
     "name": "stdout",
     "output_type": "stream",
     "text": [
      "the: 2\n",
      "all: 57\n",
      "happy: 1285\n",
      "sad: 7540\n"
     ]
    }
   ],
   "source": [
    " for word in ['the', 'all', 'happy', 'sad']:\n",
    "...     print('{}: {}'.format(word, tokenizer.word_index[word]))   "
   ]
  },
  {
   "cell_type": "code",
   "execution_count": 22,
   "id": "7ca2024d",
   "metadata": {},
   "outputs": [],
   "source": [
    "from keras.preprocessing.sequence import pad_sequences"
   ]
  },
  {
   "cell_type": "code",
   "execution_count": 24,
   "id": "67267480",
   "metadata": {},
   "outputs": [],
   "source": [
    "maxlen = 100\n",
    "X_train = pad_sequences(X_train, padding='post', maxlen=maxlen)"
   ]
  },
  {
   "cell_type": "code",
   "execution_count": 25,
   "id": "f1409529",
   "metadata": {},
   "outputs": [],
   "source": [
    "X_test = pad_sequences(X_test, padding='post', maxlen=maxlen)"
   ]
  },
  {
   "cell_type": "code",
   "execution_count": null,
   "id": "92882005",
   "metadata": {},
   "outputs": [],
   "source": [
    "X_val = pad_sequences(X_val, padding='post', maxlen=maxlen)"
   ]
  },
  {
   "cell_type": "markdown",
   "id": "8bb8b4ac",
   "metadata": {},
   "source": [
    "## Defining metrics"
   ]
  },
  {
   "cell_type": "code",
   "execution_count": null,
   "id": "bafe38e6",
   "metadata": {},
   "outputs": [],
   "source": [
    "METRICS = [\n",
    "      keras.metrics.TruePositives(name='tp'),\n",
    "      keras.metrics.FalsePositives(name='fp'),\n",
    "      keras.metrics.TrueNegatives(name='tn'),\n",
    "      keras.metrics.FalseNegatives(name='fn'), \n",
    "      keras.metrics.BinaryAccuracy(name='accuracy'),\n",
    "      keras.metrics.Precision(name='precision'),\n",
    "      keras.metrics.Recall(name='recall'),\n",
    "      keras.metrics.AUC(name='auc'),\n",
    "      keras.metrics.AUC(name='prc', curve='PR'), # precision-recall curve\n",
    "]"
   ]
  },
  {
   "cell_type": "markdown",
   "id": "b9213ae8",
   "metadata": {},
   "source": [
    "## Defining the model"
   ]
  },
  {
   "cell_type": "code",
   "execution_count": 164,
   "id": "810bc861",
   "metadata": {
    "scrolled": true
   },
   "outputs": [
    {
     "name": "stdout",
     "output_type": "stream",
     "text": [
      "Model: \"sequential_42\"\n",
      "_________________________________________________________________\n",
      " Layer (type)                Output Shape              Param #   \n",
      "=================================================================\n",
      " embedding_41 (Embedding)    (None, 100, 50)           2893600   \n",
      "                                                                 \n",
      " flatten_9 (Flatten)         (None, 5000)              0         \n",
      "                                                                 \n",
      " dense_82 (Dense)            (None, 10)                50010     \n",
      "                                                                 \n",
      " dense_83 (Dense)            (None, 1)                 11        \n",
      "                                                                 \n",
      "=================================================================\n",
      "Total params: 2,943,621\n",
      "Trainable params: 2,943,621\n",
      "Non-trainable params: 0\n",
      "_________________________________________________________________\n"
     ]
    }
   ],
   "source": [
    "                                                                                                                                                from keras.models import Sequential\n",
    "from keras import layers\n",
    "from keras.models import Sequential\n",
    "\n",
    "embedding_dim = 50\n",
    "\n",
    "model = Sequential()\n",
    "model.add(layers.Embedding(input_dim=vocab_size, \n",
    "                           output_dim=embedding_dim, \n",
    "                           input_length=maxlen))\n",
    "model.add(layers.Flatten())\n",
    "model.add(layers.Dense(10, activation='relu'))\n",
    "model.add(layers.Dense(1, activation='sigmoid'))\n",
    "model.compile(optimizer='sgd',\n",
    "              loss='binary_crossentropy',\n",
    "              metrics=METRICS)\n",
    "model.summary()"
   ]
  },
  {
   "cell_type": "markdown",
   "id": "e09b3008",
   "metadata": {},
   "source": [
    "## Early stopping criteria is important"
   ]
  },
  {
   "cell_type": "code",
   "execution_count": 108,
   "id": "09eccc94",
   "metadata": {},
   "outputs": [],
   "source": [
    "early_stopping = tf.keras.callbacks.EarlyStopping(\n",
    "    monitor='val_prc', \n",
    "    verbose=1,\n",
    "    patience=10,\n",
    "    mode='max',\n",
    "    restore_best_weights=True)"
   ]
  },
  {
   "cell_type": "code",
   "execution_count": 109,
   "id": "f6666f5b",
   "metadata": {},
   "outputs": [
    {
     "data": {
      "text/plain": [
       "(4671, 100)"
      ]
     },
     "execution_count": 109,
     "metadata": {},
     "output_type": "execute_result"
    }
   ],
   "source": [
    "X_train.shape"
   ]
  },
  {
   "cell_type": "code",
   "execution_count": 110,
   "id": "e713291e",
   "metadata": {},
   "outputs": [
    {
     "data": {
      "text/plain": [
       "Counter({0: 3317, 1: 1354})"
      ]
     },
     "execution_count": 110,
     "metadata": {},
     "output_type": "execute_result"
    }
   ],
   "source": [
    "from collections import Counter\n",
    "Counter(y_train)"
   ]
  },
  {
   "cell_type": "markdown",
   "id": "92c7126f",
   "metadata": {},
   "source": [
    "## Model fitting"
   ]
  },
  {
   "cell_type": "code",
   "execution_count": 167,
   "id": "e2edf11a",
   "metadata": {},
   "outputs": [
    {
     "name": "stdout",
     "output_type": "stream",
     "text": [
      "Restoring model weights from the end of the best epoch: 12.\n",
      "Epoch 00022: early stopping\n"
     ]
    }
   ],
   "source": [
    "## class weight is given since the dataset is imbalanced.\n",
    "\n",
    "class_weight = {0: 1.,\n",
    "                1: 2.5\n",
    "                }\n",
    "\n",
    "history = model.fit(X_train, y_train,\n",
    "                    epochs=100,\n",
    "                    verbose=False,\n",
    "                    validation_data=(X_val, y_val),\n",
    "                    batch_size=10,\n",
    "                   class_weight=class_weight,\n",
    "                    callbacks=[early_stopping]\n",
    "                   )\n",
    "\n"
   ]
  },
  {
   "cell_type": "code",
   "execution_count": 128,
   "id": "25e907c2",
   "metadata": {},
   "outputs": [
    {
     "data": {
      "text/plain": [
       "[0.05843326449394226,\n",
       " 1354.0,\n",
       " 78.0,\n",
       " 3239.0,\n",
       " 0.0,\n",
       " 0.9833012223243713,\n",
       " 0.9455307126045227,\n",
       " 1.0,\n",
       " 0.9985508322715759,\n",
       " 0.995078444480896]"
      ]
     },
     "execution_count": 128,
     "metadata": {},
     "output_type": "execute_result"
    }
   ],
   "source": [
    "model.evaluate(X_train, y_train, verbose=False)"
   ]
  },
  {
   "cell_type": "code",
   "execution_count": 129,
   "id": "9a4a8d54",
   "metadata": {},
   "outputs": [],
   "source": [
    "import seaborn as sns\n",
    "\n",
    "import sklearn\n",
    "from sklearn.metrics import confusion_matrix\n",
    "import matplotlib as mpl\n",
    "import matplotlib.pyplot as plt\n",
    "mpl.rcParams['figure.figsize'] = (12, 10)\n",
    "colors = plt.rcParams['axes.prop_cycle'].by_key()['color']\n",
    "def plot_metrics(history):\n",
    "  metrics = ['loss', 'prc', 'precision', 'recall']\n",
    "  for n, metric in enumerate(metrics):\n",
    "    name = metric.replace(\"_\",\" \").capitalize()\n",
    "    plt.subplot(2,2,n+1)\n",
    "    plt.plot(history.epoch, history.history[metric], color=colors[0], label='Train')\n",
    "    plt.plot(history.epoch, history.history['val_'+metric],\n",
    "             color=colors[0], linestyle=\"--\", label='Val')\n",
    "    plt.xlabel('Epoch')\n",
    "    plt.ylabel(name)\n",
    "    if metric == 'loss':\n",
    "      plt.ylim([0, plt.ylim()[1]])\n",
    "    elif metric == 'auc':\n",
    "      plt.ylim([0.8,1])\n",
    "    else:\n",
    "      plt.ylim([0,1])\n",
    "\n",
    "    plt.legend();"
   ]
  },
  {
   "cell_type": "code",
   "execution_count": 130,
   "id": "99fb563a",
   "metadata": {},
   "outputs": [
    {
     "data": {
      "image/png": "[encoded data removed]",
      "text/plain": [
       "<Figure size 864x720 with 4 Axes>"
      ]
     },
     "metadata": {},
     "output_type": "display_data"
    }
   ],
   "source": [
    "plot_metrics(history)"
   ]
  },
  {
   "cell_type": "code",
   "execution_count": 131,
   "id": "48589066",
   "metadata": {},
   "outputs": [],
   "source": [
    "from sklearn.metrics import classification_report"
   ]
  },
  {
   "cell_type": "code",
   "execution_count": 132,
   "id": "59497689",
   "metadata": {},
   "outputs": [],
   "source": [
    "y_pred_test_prob = model.predict(X_test)\n",
    "y_pred_test = [1 if x>0.5 else 0 for x in y_pred_test_prob]"
   ]
  },
  {
   "cell_type": "code",
   "execution_count": 133,
   "id": "b91c468e",
   "metadata": {},
   "outputs": [
    {
     "name": "stdout",
     "output_type": "stream",
     "text": [
      "              precision    recall  f1-score   support\n",
      "\n",
      "           0       0.95      0.98      0.96       173\n",
      "           1       0.94      0.88      0.91        77\n",
      "\n",
      "    accuracy                           0.95       250\n",
      "   macro avg       0.95      0.93      0.94       250\n",
      "weighted avg       0.95      0.95      0.95       250\n",
      "\n"
     ]
    }
   ],
   "source": [
    "print(classification_report(y_pred_test,y_test))"
   ]
  },
  {
   "cell_type": "markdown",
   "id": "f61c2f31",
   "metadata": {},
   "source": [
    "## Convolution neural networks.\n",
    "## Hyper Parameter Tuning"
   ]
  },
  {
   "cell_type": "code",
   "execution_count": 144,
   "id": "1b13eb33",
   "metadata": {},
   "outputs": [],
   "source": [
    "def create_model(num_filters, kernel_size, vocab_size, embedding_dim, maxlen):\n",
    "    model = Sequential()\n",
    "    model.add(layers.Embedding(vocab_size, embedding_dim, input_length=maxlen))\n",
    "    model.add(layers.Conv1D(num_filters, kernel_size, activation='relu'))\n",
    "    model.add(layers.GlobalMaxPooling1D())\n",
    "    model.add(layers.Dense(10, activation='relu'))\n",
    "    model.add(layers.Dense(1, activation='sigmoid'))\n",
    "    model.compile(optimizer='adam',\n",
    "                  loss='binary_crossentropy',\n",
    "                  metrics=METRICS),\n",
    "                    \n",
    "    return model"
   ]
  },
  {
   "cell_type": "code",
   "execution_count": 135,
   "id": "d785b97c",
   "metadata": {},
   "outputs": [],
   "source": [
    "param_grid = dict(num_filters=[32, 64, 128],\n",
    "                  kernel_size=[3, 5, 7],\n",
    "                  vocab_size=[5000], \n",
    "                  embedding_dim=[50],\n",
    "                  maxlen=[100])"
   ]
  },
  {
   "cell_type": "code",
   "execution_count": 137,
   "id": "2dc776fa",
   "metadata": {},
   "outputs": [],
   "source": [
    "from keras.wrappers.scikit_learn import KerasClassifier\n",
    "from sklearn.model_selection import RandomizedSearchCV"
   ]
  },
  {
   "cell_type": "code",
   "execution_count": 142,
   "id": "35f5ab5c",
   "metadata": {},
   "outputs": [],
   "source": [
    "epochs = 30"
   ]
  },
  {
   "cell_type": "code",
   "execution_count": 145,
   "id": "04bc22df",
   "metadata": {},
   "outputs": [
    {
     "name": "stderr",
     "output_type": "stream",
     "text": [
      "/tmp/ipykernel_21254/993269596.py:1: DeprecationWarning: KerasClassifier is deprecated, use Sci-Keras (https://github.com/adriangb/scikeras) instead.\n",
      "  model = KerasClassifier(build_fn=create_model,\n"
     ]
    },
    {
     "name": "stdout",
     "output_type": "stream",
     "text": [
      "INFO:tensorflow:Assets written to: ram://f1b90bf5-2045-44e9-8d18-9cd4a6aae5b8/assets\n",
      "Fitting 4 folds for each of 5 candidates, totalling 20 fits\n",
      "INFO:tensorflow:Assets written to: ram://45dfc38a-13a4-4c24-8447-185985f3432a/assets\n",
      "INFO:tensorflow:Assets written to: ram://4c936f9c-7845-47f4-8ee1-1114580c42b6/assets\n",
      "Restoring model weights from the end of the best epoch: 3.\n",
      "Epoch 00013: early stopping\n",
      "INFO:tensorflow:Assets written to: ram://ecfe98d4-06a3-4909-9bb1-a8118d2dfa7a/assets\n",
      "INFO:tensorflow:Assets written to: ram://0c6de469-1661-46bf-ba56-e144a77c12d2/assets\n",
      "INFO:tensorflow:Assets written to: ram://3d472b3e-a6ec-49aa-b6c3-33590b8d4400/assets\n",
      "INFO:tensorflow:Assets written to: ram://4d837263-3e23-4179-90bf-a131f13a2f6a/assets\n",
      "Restoring model weights from the end of the best epoch: 3.\n",
      "Epoch 00013: early stopping\n",
      "INFO:tensorflow:Assets written to: ram://b12cbca0-8956-4892-860f-5a108f819a1c/assets\n",
      "INFO:tensorflow:Assets written to: ram://d549a60d-bf47-4ac7-af29-19fb00b80c4b/assets\n",
      "Restoring model weights from the end of the best epoch: 19.\n",
      "Epoch 00029: early stopping\n",
      "INFO:tensorflow:Assets written to: ram://c1d07f79-457c-4a38-a4d4-83a57b3e8c5e/assets\n",
      "INFO:tensorflow:Assets written to: ram://c8ce9093-4022-4640-84e2-0a7430dab220/assets\n",
      "Restoring model weights from the end of the best epoch: 5.\n",
      "Epoch 00015: early stopping\n",
      "INFO:tensorflow:Assets written to: ram://cbf30567-3c79-41ae-b3d2-f2d15158dbb3/assets\n",
      "INFO:tensorflow:Assets written to: ram://317a329b-e448-4ce9-93e6-edd53743f626/assets\n",
      "Restoring model weights from the end of the best epoch: 2.\n",
      "Epoch 00012: early stopping\n",
      "INFO:tensorflow:Assets written to: ram://12994bc0-0b24-4baf-a152-abecf0d348c8/assets\n",
      "INFO:tensorflow:Assets written to: ram://ab3b0ab5-8c8a-48d6-93d3-a4939223ec3e/assets\n",
      "Restoring model weights from the end of the best epoch: 9.\n",
      "Epoch 00019: early stopping\n",
      "INFO:tensorflow:Assets written to: ram://ff4996bb-31ef-413a-b289-21e973cdad8f/assets\n",
      "INFO:tensorflow:Assets written to: ram://f8d02c99-092b-4e2e-9e0a-ea5f2ed6f5d7/assets\n",
      "Restoring model weights from the end of the best epoch: 10.\n",
      "Epoch 00020: early stopping\n",
      "INFO:tensorflow:Assets written to: ram://df35fee3-e3f1-4c78-b41e-9b0b92b658cf/assets\n",
      "INFO:tensorflow:Assets written to: ram://c7359716-7aeb-4048-b728-6f28b36a8ee6/assets\n",
      "Restoring model weights from the end of the best epoch: 2.\n",
      "Epoch 00012: early stopping\n",
      "INFO:tensorflow:Assets written to: ram://333d0f65-1ad8-43ca-b44d-55ef2e36c9aa/assets\n",
      "INFO:tensorflow:Assets written to: ram://68f61af1-6c9d-4966-802f-08be06207962/assets\n",
      "Restoring model weights from the end of the best epoch: 6.\n",
      "Epoch 00016: early stopping\n",
      "INFO:tensorflow:Assets written to: ram://8036d28e-7797-4db6-b7ce-1e2991cd725e/assets\n",
      "INFO:tensorflow:Assets written to: ram://bd31c692-e329-4878-b4c4-85ebe08b36fd/assets\n",
      "Restoring model weights from the end of the best epoch: 4.\n",
      "Epoch 00014: early stopping\n",
      "INFO:tensorflow:Assets written to: ram://90f8f50b-6daa-42ed-9648-354a21c842d6/assets\n",
      "INFO:tensorflow:Assets written to: ram://a57a97a3-26dd-4ce3-9df8-1236bad8abaf/assets\n",
      "Restoring model weights from the end of the best epoch: 1.\n",
      "Epoch 00011: early stopping\n",
      "INFO:tensorflow:Assets written to: ram://c2997444-7542-4330-8ff4-22aecb439edf/assets\n",
      "INFO:tensorflow:Assets written to: ram://872fb1b4-44dd-49c3-8d7d-a1a1d3b6d2ae/assets\n",
      "Restoring model weights from the end of the best epoch: 2.\n",
      "Epoch 00012: early stopping\n",
      "INFO:tensorflow:Assets written to: ram://86a933ed-270c-4566-afac-027a9455e34a/assets\n",
      "INFO:tensorflow:Assets written to: ram://b8e6af2f-31cb-4501-9480-5dc0272efb39/assets\n",
      "Restoring model weights from the end of the best epoch: 3.\n",
      "Epoch 00013: early stopping\n",
      "INFO:tensorflow:Assets written to: ram://0ededc18-34eb-41a2-9712-9ec43b5d1923/assets\n",
      "INFO:tensorflow:Assets written to: ram://90735e88-19ae-498c-a213-e21f85826345/assets\n",
      "Restoring model weights from the end of the best epoch: 2.\n",
      "Epoch 00012: early stopping\n",
      "INFO:tensorflow:Assets written to: ram://80a09b2a-4e99-4de5-9387-1a9d4e64900e/assets\n",
      "INFO:tensorflow:Assets written to: ram://385fadfa-346a-4a4b-8ad1-5bc23e3d0521/assets\n",
      "Restoring model weights from the end of the best epoch: 18.\n",
      "Epoch 00028: early stopping\n",
      "INFO:tensorflow:Assets written to: ram://f3b40d25-9d60-4117-8bae-3d65d975424e/assets\n",
      "INFO:tensorflow:Assets written to: ram://5a78e59b-e422-43ca-a292-5054f93034d7/assets\n",
      "Restoring model weights from the end of the best epoch: 4.\n",
      "Epoch 00014: early stopping\n",
      "INFO:tensorflow:Assets written to: ram://3f000b35-0bff-4ca6-982f-742d97be7f75/assets\n",
      "INFO:tensorflow:Assets written to: ram://e9f64b56-28bf-4e0a-8fb7-d11a0a4f92e0/assets\n",
      "Restoring model weights from the end of the best epoch: 16.\n",
      "Epoch 00026: early stopping\n",
      "INFO:tensorflow:Assets written to: ram://3c89fadb-7881-47b6-8c29-3d9fe1f85511/assets\n",
      "INFO:tensorflow:Assets written to: ram://2cfca154-f01f-44d5-ade3-5ff14c77a7d1/assets\n",
      "Restoring model weights from the end of the best epoch: 9.\n",
      "Epoch 00019: early stopping\n",
      "INFO:tensorflow:Assets written to: ram://e37c2da1-2ca3-4116-9380-2b3e30d59213/assets\n",
      "INFO:tensorflow:Assets written to: ram://7d174f61-afce-4a4e-8eb3-2f1c193d539b/assets\n",
      "Restoring model weights from the end of the best epoch: 8.\n",
      "Epoch 00018: early stopping\n",
      "INFO:tensorflow:Assets written to: ram://6a3a439d-de6b-471e-8ede-9f490211f4d5/assets\n",
      "INFO:tensorflow:Assets written to: ram://d5e5b89f-37db-4f57-b27f-09dd29910b15/assets\n",
      "INFO:tensorflow:Assets written to: ram://1073dd43-c789-42c4-9481-87626f17c826/assets\n",
      "Restoring model weights from the end of the best epoch: 17.\n",
      "Epoch 00027: early stopping\n"
     ]
    }
   ],
   "source": [
    "model = KerasClassifier(build_fn=create_model,\n",
    "                            epochs=epochs, batch_size=10,validation_data=(X_val, y_val),\n",
    "                            verbose=False,callbacks=[early_stopping])\n",
    "grid = RandomizedSearchCV(estimator=model, param_distributions=param_grid,\n",
    "                              cv=4, verbose=1, n_iter=5)\n",
    "grid_result = grid.fit(X_train, y_train)"
   ]
  },
  {
   "cell_type": "code",
   "execution_count": 146,
   "id": "5d3b077f",
   "metadata": {},
   "outputs": [],
   "source": [
    "test_accuracy = grid.score(X_test, y_test)"
   ]
  },
  {
   "cell_type": "code",
   "execution_count": 147,
   "id": "0fbdbc6a",
   "metadata": {},
   "outputs": [
    {
     "data": {
      "text/plain": [
       "0.9760000109672546"
      ]
     },
     "execution_count": 147,
     "metadata": {},
     "output_type": "execute_result"
    }
   ],
   "source": [
    "test_accuracy"
   ]
  },
  {
   "cell_type": "code",
   "execution_count": 155,
   "id": "7639edb7",
   "metadata": {},
   "outputs": [],
   "source": [
    "#plot_metrics(grid.best_estimator_)"
   ]
  },
  {
   "cell_type": "code",
   "execution_count": 158,
   "id": "fa5e39b4",
   "metadata": {},
   "outputs": [
    {
     "data": {
      "text/plain": [
       "<keras.wrappers.scikit_learn.KerasClassifier at 0x7fb5923f33d0>"
      ]
     },
     "execution_count": 158,
     "metadata": {},
     "output_type": "execute_result"
    }
   ],
   "source": [
    "grid.best_estimator_"
   ]
  },
  {
   "cell_type": "code",
   "execution_count": 153,
   "id": "cd5e72e4",
   "metadata": {},
   "outputs": [
    {
     "data": {
      "text/plain": [
       "<keras.wrappers.scikit_learn.KerasClassifier at 0x7fb5900c8bb0>"
      ]
     },
     "execution_count": 153,
     "metadata": {},
     "output_type": "execute_result"
    }
   ],
   "source": [
    "grid.estimator"
   ]
  },
  {
   "cell_type": "code",
   "execution_count": 156,
   "id": "cd06cd52",
   "metadata": {},
   "outputs": [],
   "source": [
    "y_pred_test = grid.predict(X_test)"
   ]
  },
  {
   "cell_type": "code",
   "execution_count": 159,
   "id": "28d73f79",
   "metadata": {},
   "outputs": [],
   "source": [
    "y_pred_test_prob = grid.predict(X_test)\n",
    "y_pred_test = [1 if x>0.5 else 0 for x in y_pred_test_prob]"
   ]
  },
  {
   "cell_type": "code",
   "execution_count": 160,
   "id": "d02927b6",
   "metadata": {},
   "outputs": [
    {
     "name": "stdout",
     "output_type": "stream",
     "text": [
      "              precision    recall  f1-score   support\n",
      "\n",
      "           0       0.99      0.98      0.98       180\n",
      "           1       0.94      0.97      0.96        70\n",
      "\n",
      "    accuracy                           0.98       250\n",
      "   macro avg       0.97      0.97      0.97       250\n",
      "weighted avg       0.98      0.98      0.98       250\n",
      "\n"
     ]
    }
   ],
   "source": [
    "print(classification_report(y_pred_test,y_test))"
   ]
  },
  {
   "cell_type": "code",
   "execution_count": null,
   "id": "81470fcf",
   "metadata": {},
   "outputs": [],
   "source": []
  }
 ],
 "metadata": {
  "kernelspec": {
   "display_name": "Environment (conda_tensorflow2_p38)",
   "language": "python",
   "name": "conda_tensorflow2_p38"
  },
  "language_info": {
   "codemirror_mode": {
    "name": "ipython",
    "version": 3
   },
   "file_extension": ".py",
   "mimetype": "text/x-python",
   "name": "python",
   "nbconvert_exporter": "python",
   "pygments_lexer": "ipython3",
   "version": "3.8.12"
  }
 },
 "nbformat": 4,
 "nbformat_minor": 5
}
